{
 "cells": [
  {
   "cell_type": "markdown",
   "metadata": {},
   "source": [
    "##Installation\n",
    "##CRAN: https://cran.r-project.org/index.html \n",
    "##Open R Gui or Rstudio\n",
    "![Picture1.png](R_5352_2020/Picture1.png)\n",
    "![Picture2.jpg](R_5352_2020/Picture2.jpg)"
   ]
  },
  {
   "cell_type": "code",
   "execution_count": 1,
   "metadata": {},
   "outputs": [
    {
     "name": "stdout",
     "output_type": "stream",
     "text": [
      "[1] \"1.Character\"\n",
      "[1] \"First command line\"\n",
      "[1] \"Hello World!\"\n"
     ]
    },
    {
     "data": {
      "text/html": [
       "'A'"
      ],
      "text/latex": [
       "'A'"
      ],
      "text/markdown": [
       "'A'"
      ],
      "text/plain": [
       "[1] \"A\""
      ]
     },
     "metadata": {},
     "output_type": "display_data"
    },
    {
     "ename": "ERROR",
     "evalue": "Error in eval(expr, envir, enclos): object 'A' not found\n",
     "output_type": "error",
     "traceback": [
      "Error in eval(expr, envir, enclos): object 'A' not found\nTraceback:\n"
     ]
    }
   ],
   "source": [
    "##Data Type\n",
    "print(\"1.Character\")\n",
    "print(\"First command line\")\n",
    "print(\"Hello World!\")\n",
    "\"A\"\n",
    "A\n",
    "mode(\"A\")\n",
    "is.character(\"A\")\n",
    "print(\"2.Numeric\")\n",
    "1\n",
    "is.numeric(1)\n",
    "1.0\n",
    "is.numeric(1.0)\n",
    "24.50\n",
    "print(\"3.Integer as a special Numeric\")\n",
    "1L\n",
    "is.integer(1L)\n",
    "is.numeric(1L)\n",
    "mode(1L)\n",
    "2.50L\n",
    "is.integer(2.5L)\n",
    "print(\"4.Complex\")\n",
    "4 + 2i\n",
    "is.complex(2+1i)\n",
    "print(\"5.Logical and Boolean operater\")\n",
    "1 > 0\n",
    "1 < 0\n",
    "1 >= 0\n",
    "x = 1\n",
    "x == 1\n",
    "y = 1 \n",
    "x != y\n",
    "!x\n",
    "x|y\n",
    "TRUE && FALSE\n",
    "c(TRUE,TRUE) && c(FALSE,FALSE)\n",
    "c(TRUE,TRUE) & c(FALSE,FALSE)\n",
    "is.na(c(1,NA,\"NULL\",\"na\",\"\"))\n",
    "print(\"6.Factor\")\n",
    "factors = as.factor(c(\"A\",\"B\",\"C\"))\n",
    "levels(factors)\n",
    "factors\n",
    "\n"
   ]
  },
  {
   "cell_type": "code",
   "execution_count": null,
   "metadata": {
    "collapsed": true,
    "scrolled": false
   },
   "outputs": [],
   "source": [
    "##Data Structures\n",
    "print(\"1.Vector\")\n",
    "c(1,2,3)\n",
    "c(1,2,3) + c(4,5,6)\n",
    "c(3,2) + c(1,2,3)\n",
    "X <- c(\"a\",\"b\",\"c\")\n",
    "X\n",
    "Y <- c(42, \"Statistics\", TRUE)\n",
    "##check the Data type of Y\n",
    "Y\n",
    "c(42, FALSE)\n",
    "seq(1,5,1)\n",
    "rev(c(1,2,3))\n",
    "rep(\"SBMI\",5)\n",
    "runif(10)\n",
    "rnorm(15)\n",
    "Z = c(X,Y)\n",
    "length(Z)\n",
    "mode(Z)\n",
    "print(\"2.Subsetting of Vectors\")\n",
    "x = c(1, 3, 5, 7, 8, 9)\n",
    "x[1]\n",
    "x[3]\n",
    "x[1:3]\n",
    "x[c(1,4,5)]\n",
    "x[-2]\n",
    "z = c(TRUE, TRUE, FALSE, TRUE, TRUE, FALSE)\n",
    "x[z]\n",
    "x[4]\n",
    "x[-3]\n",
    "x[2:5]\n",
    "x[7]\n",
    "x[\"A\"]\n",
    "x[c(1,5)]\n",
    "x[x>3]\n",
    "x[x >3 & x<5]\n",
    "print(\"3.Vectorization\")\n",
    "x = 1:10\n",
    "x > 3\n",
    "x + 1\n",
    "2 * x\n",
    "2^x\n",
    "x == 3 | x != 3\n",
    "x == 3 & x != 3\n",
    "x == 3 && x != 3\n",
    "sqrt(x)\n",
    "log(x)\n",
    "log10(x)\n",
    "log2(x)\n",
    "sum(x > 3)\n",
    "as.numeric(x > 3)\n",
    "\n",
    "\n",
    "\n"
   ]
  },
  {
   "cell_type": "code",
   "execution_count": null,
   "metadata": {
    "collapsed": true
   },
   "outputs": [],
   "source": [
    "print(\"2.Matrix/array\")\n",
    "x = 1:9\n",
    "X = matrix(x, nrow = 3, ncol = 3)\n",
    "Y = matrix(x, nrow = 3, ncol = 3, byrow = TRUE)\n",
    "X\n",
    "Y\n",
    "X[1, 2]\n",
    "Y[1,]\n",
    "Y[,2]\n",
    "X[1,c(2:3)]\n",
    "rbind(x, rev(x), rep(1, 9))\n",
    "Z =rbind(x, rev(x), rep(1, 9))\n",
    "Z\n",
    "cbind(col_1 = x, col_2 = rev(x), col_3 = rep(1, 9))\n",
    "##When using rbind and cbind you can specify “argument” names that will be used as column names.\n",
    "x = 1:9\n",
    "y = 9:1\n",
    "X = matrix(x, 3, 3)\n",
    "Y = matrix(y, 3, 3)\n",
    "#Matrix calculation\n",
    "X + Y\n",
    "X - Y\n",
    "X/Y\n",
    "X*Y\n",
    "X%*%Y\n",
    "colSums(X)\n",
    "rowSums(Y)\n",
    "rowMeans(X)\n",
    "colMeans(Y)\n",
    "diag(X)"
   ]
  },
  {
   "cell_type": "code",
   "execution_count": null,
   "metadata": {
    "collapsed": true
   },
   "outputs": [],
   "source": [
    "print(\"1.list\")\n",
    "x = list()\n",
    "x[[\"BRCA_genes\"]] = c(\"BRCA1\", \"BRCA2\")\n",
    "x[[\"LUAD_genes\"]] = c(\"EGFR\", \"KRAS\", \"BRAF\")\n",
    "x\n",
    "x[1]\n",
    "x[[1]]\n",
    "x[[\"BRCA_genes\"]]\n",
    "x$BRCA_genes\n",
    "\n"
   ]
  },
  {
   "cell_type": "code",
   "execution_count": null,
   "metadata": {
    "collapsed": true
   },
   "outputs": [],
   "source": [
    "print(\"1.Data frame\")\n",
    "example_data = data.frame(x = seq(1,10,1),\n",
    "                          y = c(rep(\"Hello\", 9), \"Goodbye\"),\n",
    "                          z = rep(c(TRUE, FALSE), 5))\n",
    "example_data\n",
    "#Unlike a list which has more flexibility, the elements of a data frame must all be vectors, and have the same length.\n",
    "str(example_data)\n",
    "nrow(example_data)\n",
    "ncol(example_data)\n",
    "dim(example_data)\n"
   ]
  },
  {
   "cell_type": "code",
   "execution_count": null,
   "metadata": {
    "collapsed": true,
    "scrolled": true
   },
   "outputs": [],
   "source": [
    "print(\"Lab exercise: input and output\")\n",
    "#test data\n",
    "#library(\"package\")\n",
    "getwd()\n",
    "wd <- getwd()\n",
    "#setwd(wd)\n",
    "data(mtcars)\n",
    "ls()\n",
    "head(mtcars)\n",
    "dim(mtcars)\n",
    "#write.table(mtcars,file=\"mtcar.txt\",row.names=TRUE,col.names=TRUE,sep=\" \")\n",
    "#read.delim(\"mtcar.txt\",header=TRUE)\n",
    "#save.image(\"5/15/2020.Rdata\")\n",
    "#load(\"5/15/2020.Rdata\")"
   ]
  },
  {
   "cell_type": "markdown",
   "metadata": {},
   "source": [
    "![Picture3.png](R_5352_2020/Picture3.png)"
   ]
  },
  {
   "cell_type": "code",
   "execution_count": null,
   "metadata": {
    "collapsed": true
   },
   "outputs": [],
   "source": []
  },
  {
   "cell_type": "code",
   "execution_count": null,
   "metadata": {
    "collapsed": true
   },
   "outputs": [],
   "source": []
  }
 ],
 "metadata": {
  "kernelspec": {
   "display_name": "R",
   "language": "R",
   "name": "ir"
  },
  "language_info": {
   "codemirror_mode": "r",
   "file_extension": ".r",
   "mimetype": "text/x-r-source",
   "name": "R",
   "pygments_lexer": "r",
   "version": "3.5.2"
  }
 },
 "nbformat": 4,
 "nbformat_minor": 2
}
