{
 "cells": [
  {
   "attachments": {
    "image.png": {
     "image/png": "[encoded data removed]"
    }
   },
   "cell_type": "markdown",
   "metadata": {},
   "source": [
    "##Installation\n",
    "##CRAN: https://cran.r-project.org/index.html \n",
    "![image.png](attachment:image.png)\n",
    "##Open R Gui or Rstudio\n",
    "![Picture1.png](attachment:R_5352_2020/Picture1.png)\n",
    "![Picture2.jpg](attachment:R_5352_2020/Picture2.jpg)\n"
   ]
  },
  {
   "cell_type": "code",
   "execution_count": 38,
   "metadata": {},
   "outputs": [
    {
     "name": "stdout",
     "output_type": "stream",
     "text": [
      "[1] \"1.Character\"\n",
      "[1] \"First command line\"\n",
      "[1] \"Hello World!\"\n"
     ]
    },
    {
     "data": {
      "text/html": [
       "'A'"
      ],
      "text/latex": [
       "'A'"
      ],
      "text/markdown": [
       "'A'"
      ],
      "text/plain": [
       "[1] \"A\""
      ]
     },
     "metadata": {},
     "output_type": "display_data"
    },
    {
     "ename": "ERROR",
     "evalue": "Error in eval(expr, envir, enclos): object 'A' not found\n",
     "output_type": "error",
     "traceback": [
      "Error in eval(expr, envir, enclos): object 'A' not found\nTraceback:\n"
     ]
    }
   ],
   "source": [
    "##Data Type\n",
    "print(\"1.Character\")\n",
    "print(\"First command line\")\n",
    "print(\"Hello World!\")\n",
    "\"A\"\n",
    "A\n",
    "mode(\"A\")\n",
    "is.character(\"A\")\n",
    "print(\"2.Numeric\")\n",
    "1\n",
    "is.numeric(1)\n",
    "1.0\n",
    "is.numeric(1.0)\n",
    "24.50\n",
    "print(\"3.Integer as a special Numeric\")\n",
    "1L\n",
    "is.integer(1L)\n",
    "is.numeric(1L)\n",
    "mode(1L)\n",
    "2.50L\n",
    "is.integer(2.5L)\n",
    "print(\"4.Complex\")\n",
    "4 + 2i\n",
    "is.complex(2+1i)\n",
    "print(\"5.Logical and Boolean operater\")\n",
    "1 > 0\n",
    "1 < 0\n",
    "1 >= 0\n",
    "x = 1\n",
    "x == 1\n",
    "y = 1 \n",
    "x != y\n",
    "!x\n",
    "x|y\n",
    "TRUE && FALSE\n",
    "c(TRUE,TRUE) && c(FALSE,FALSE)\n",
    "c(TRUE,TRUE) & c(FALSE,FALSE)\n",
    "is.na(c(1,NA,\"NULL\",\"na\",\"\"))\n",
    "print(\"6.Factor\")\n",
    "factors = as.factor(c(\"A\",\"B\",\"C\"))\n",
    "levels(factors)\n",
    "factors\n",
    "\n"
   ]
  },
  {
   "cell_type": "code",
   "execution_count": 39,
   "metadata": {
    "scrolled": false
   },
   "outputs": [
    {
     "ename": "ERROR",
     "evalue": "Error in parse(text = x, srcfile = src): <text>:22:5: unexpected ','\n21: x = c(1, 3, 5, 7, 8, 9)\n22: x[1],\n        ^\n",
     "output_type": "error",
     "traceback": [
      "Error in parse(text = x, srcfile = src): <text>:22:5: unexpected ','\n21: x = c(1, 3, 5, 7, 8, 9)\n22: x[1],\n        ^\nTraceback:\n"
     ]
    }
   ],
   "source": [
    "##Data Structures\n",
    "print(\"1.Vector\")\n",
    "c(1,2,3)\n",
    "c(1,2,3) + c(4,5,6)\n",
    "c(3,2) + c(1,2,3)\n",
    "X <- c(\"a\",\"b\",\"c\")\n",
    "X\n",
    "Y <- c(42, \"Statistics\", TRUE)\n",
    "##check the Data type of Y\n",
    "Y\n",
    "c(42, FALSE)\n",
    "seq(1,5,1)\n",
    "rev(c(1,2,3))\n",
    "rep(\"SBMI\",5)\n",
    "runif(10)\n",
    "rnorm(15)\n",
    "Z = c(X,Y)\n",
    "length(Z)\n",
    "mode(Z)\n",
    "print(\"2.Subsetting of Vectors\")\n",
    "x = c(1, 3, 5, 7, 8, 9)\n",
    "x[1], x[3], x[1:3]\n",
    "x[c(1,4,5)]\n",
    "x[-2]\n",
    "z = c(TRUE, TRUE, FALSE, TRUE, TRUE, FALSE)\n",
    "x[z]\n",
    "x[4]\n",
    "x[-3]\n",
    "x[2:5]\n",
    "x[7]\n",
    "x[\"A\"]\n",
    "x[c(1,5)]\n",
    "x[x>3]\n",
    "x[x >3 & x<5]\n",
    "print(\"3.Vectorization\")\n",
    "x = 1:10\n",
    "x > 3\n",
    "x + 1\n",
    "2 * x\n",
    "2^x\n",
    "x == 3 | x != 3\n",
    "x == 3 & x != 3\n",
    "x == 3 && x != 3\n",
    "sqrt(x)\n",
    "log(x)\n",
    "log10(x)\n",
    "log2(x)\n",
    "sum(x > 3)\n",
    "as.numeric(x > 3)\n",
    "\n",
    "\n",
    "\n"
   ]
  },
  {
   "cell_type": "code",
   "execution_count": 40,
   "metadata": {},
   "outputs": [
    {
     "name": "stdout",
     "output_type": "stream",
     "text": [
      "[1] \"2.Matrix/array\"\n"
     ]
    },
    {
     "data": {
      "text/html": [
       "<table>\n",
       "<caption>A matrix: 3 × 3 of type int</caption>\n",
       "<tbody>\n",
       "\t<tr><td>1</td><td>4</td><td>7</td></tr>\n",
       "\t<tr><td>2</td><td>5</td><td>8</td></tr>\n",
       "\t<tr><td>3</td><td>6</td><td>9</td></tr>\n",
       "</tbody>\n",
       "</table>\n"
      ],
      "text/latex": [
       "A matrix: 3 × 3 of type int\n",
       "\\begin{tabular}{lll}\n",
       "\t 1 & 4 & 7\\\\\n",
       "\t 2 & 5 & 8\\\\\n",
       "\t 3 & 6 & 9\\\\\n",
       "\\end{tabular}\n"
      ],
      "text/markdown": [
       "\n",
       "A matrix: 3 × 3 of type int\n",
       "\n",
       "| 1 | 4 | 7 |\n",
       "| 2 | 5 | 8 |\n",
       "| 3 | 6 | 9 |\n",
       "\n"
      ],
      "text/plain": [
       "     [,1] [,2] [,3]\n",
       "[1,] 1    4    7   \n",
       "[2,] 2    5    8   \n",
       "[3,] 3    6    9   "
      ]
     },
     "metadata": {},
     "output_type": "display_data"
    },
    {
     "data": {
      "text/html": [
       "<table>\n",
       "<caption>A matrix: 3 × 3 of type int</caption>\n",
       "<tbody>\n",
       "\t<tr><td>1</td><td>2</td><td>3</td></tr>\n",
       "\t<tr><td>4</td><td>5</td><td>6</td></tr>\n",
       "\t<tr><td>7</td><td>8</td><td>9</td></tr>\n",
       "</tbody>\n",
       "</table>\n"
      ],
      "text/latex": [
       "A matrix: 3 × 3 of type int\n",
       "\\begin{tabular}{lll}\n",
       "\t 1 & 2 & 3\\\\\n",
       "\t 4 & 5 & 6\\\\\n",
       "\t 7 & 8 & 9\\\\\n",
       "\\end{tabular}\n"
      ],
      "text/markdown": [
       "\n",
       "A matrix: 3 × 3 of type int\n",
       "\n",
       "| 1 | 2 | 3 |\n",
       "| 4 | 5 | 6 |\n",
       "| 7 | 8 | 9 |\n",
       "\n"
      ],
      "text/plain": [
       "     [,1] [,2] [,3]\n",
       "[1,] 1    2    3   \n",
       "[2,] 4    5    6   \n",
       "[3,] 7    8    9   "
      ]
     },
     "metadata": {},
     "output_type": "display_data"
    },
    {
     "data": {
      "text/html": [
       "4"
      ],
      "text/latex": [
       "4"
      ],
      "text/markdown": [
       "4"
      ],
      "text/plain": [
       "[1] 4"
      ]
     },
     "metadata": {},
     "output_type": "display_data"
    },
    {
     "data": {
      "text/html": [
       "<style>\n",
       ".list-inline {list-style: none; margin:0; padding: 0}\n",
       ".list-inline>li {display: inline-block}\n",
       ".list-inline>li:not(:last-child)::after {content: \"\\00b7\"; padding: 0 .5ex}\n",
       "</style>\n",
       "<ol class=list-inline><li>1</li><li>2</li><li>3</li></ol>\n"
      ],
      "text/latex": [
       "\\begin{enumerate*}\n",
       "\\item 1\n",
       "\\item 2\n",
       "\\item 3\n",
       "\\end{enumerate*}\n"
      ],
      "text/markdown": [
       "1. 1\n",
       "2. 2\n",
       "3. 3\n",
       "\n",
       "\n"
      ],
      "text/plain": [
       "[1] 1 2 3"
      ]
     },
     "metadata": {},
     "output_type": "display_data"
    },
    {
     "data": {
      "text/html": [
       "<style>\n",
       ".list-inline {list-style: none; margin:0; padding: 0}\n",
       ".list-inline>li {display: inline-block}\n",
       ".list-inline>li:not(:last-child)::after {content: \"\\00b7\"; padding: 0 .5ex}\n",
       "</style>\n",
       "<ol class=list-inline><li>2</li><li>5</li><li>8</li></ol>\n"
      ],
      "text/latex": [
       "\\begin{enumerate*}\n",
       "\\item 2\n",
       "\\item 5\n",
       "\\item 8\n",
       "\\end{enumerate*}\n"
      ],
      "text/markdown": [
       "1. 2\n",
       "2. 5\n",
       "3. 8\n",
       "\n",
       "\n"
      ],
      "text/plain": [
       "[1] 2 5 8"
      ]
     },
     "metadata": {},
     "output_type": "display_data"
    },
    {
     "data": {
      "text/html": [
       "<style>\n",
       ".list-inline {list-style: none; margin:0; padding: 0}\n",
       ".list-inline>li {display: inline-block}\n",
       ".list-inline>li:not(:last-child)::after {content: \"\\00b7\"; padding: 0 .5ex}\n",
       "</style>\n",
       "<ol class=list-inline><li>4</li><li>7</li></ol>\n"
      ],
      "text/latex": [
       "\\begin{enumerate*}\n",
       "\\item 4\n",
       "\\item 7\n",
       "\\end{enumerate*}\n"
      ],
      "text/markdown": [
       "1. 4\n",
       "2. 7\n",
       "\n",
       "\n"
      ],
      "text/plain": [
       "[1] 4 7"
      ]
     },
     "metadata": {},
     "output_type": "display_data"
    },
    {
     "data": {
      "text/html": [
       "<table>\n",
       "<caption>A matrix: 3 × 9 of type dbl</caption>\n",
       "<tbody>\n",
       "\t<tr><th scope=row>x</th><td>1</td><td>2</td><td>3</td><td>4</td><td>5</td><td>6</td><td>7</td><td>8</td><td>9</td></tr>\n",
       "\t<tr><th scope=row></th><td>9</td><td>8</td><td>7</td><td>6</td><td>5</td><td>4</td><td>3</td><td>2</td><td>1</td></tr>\n",
       "\t<tr><th scope=row></th><td>1</td><td>1</td><td>1</td><td>1</td><td>1</td><td>1</td><td>1</td><td>1</td><td>1</td></tr>\n",
       "</tbody>\n",
       "</table>\n"
      ],
      "text/latex": [
       "A matrix: 3 × 9 of type dbl\n",
       "\\begin{tabular}{r|lllllllll}\n",
       "\tx & 1 & 2 & 3 & 4 & 5 & 6 & 7 & 8 & 9\\\\\n",
       "\t & 9 & 8 & 7 & 6 & 5 & 4 & 3 & 2 & 1\\\\\n",
       "\t & 1 & 1 & 1 & 1 & 1 & 1 & 1 & 1 & 1\\\\\n",
       "\\end{tabular}\n"
      ],
      "text/markdown": [
       "\n",
       "A matrix: 3 × 9 of type dbl\n",
       "\n",
       "| x | 1 | 2 | 3 | 4 | 5 | 6 | 7 | 8 | 9 |\n",
       "| <!----> | 9 | 8 | 7 | 6 | 5 | 4 | 3 | 2 | 1 |\n",
       "| <!----> | 1 | 1 | 1 | 1 | 1 | 1 | 1 | 1 | 1 |\n",
       "\n"
      ],
      "text/plain": [
       "  [,1] [,2] [,3] [,4] [,5] [,6] [,7] [,8] [,9]\n",
       "x 1    2    3    4    5    6    7    8    9   \n",
       "  9    8    7    6    5    4    3    2    1   \n",
       "  1    1    1    1    1    1    1    1    1   "
      ]
     },
     "metadata": {},
     "output_type": "display_data"
    },
    {
     "data": {
      "text/html": [
       "<table>\n",
       "<caption>A matrix: 3 × 9 of type dbl</caption>\n",
       "<tbody>\n",
       "\t<tr><th scope=row>x</th><td>1</td><td>2</td><td>3</td><td>4</td><td>5</td><td>6</td><td>7</td><td>8</td><td>9</td></tr>\n",
       "\t<tr><th scope=row></th><td>9</td><td>8</td><td>7</td><td>6</td><td>5</td><td>4</td><td>3</td><td>2</td><td>1</td></tr>\n",
       "\t<tr><th scope=row></th><td>1</td><td>1</td><td>1</td><td>1</td><td>1</td><td>1</td><td>1</td><td>1</td><td>1</td></tr>\n",
       "</tbody>\n",
       "</table>\n"
      ],
      "text/latex": [
       "A matrix: 3 × 9 of type dbl\n",
       "\\begin{tabular}{r|lllllllll}\n",
       "\tx & 1 & 2 & 3 & 4 & 5 & 6 & 7 & 8 & 9\\\\\n",
       "\t & 9 & 8 & 7 & 6 & 5 & 4 & 3 & 2 & 1\\\\\n",
       "\t & 1 & 1 & 1 & 1 & 1 & 1 & 1 & 1 & 1\\\\\n",
       "\\end{tabular}\n"
      ],
      "text/markdown": [
       "\n",
       "A matrix: 3 × 9 of type dbl\n",
       "\n",
       "| x | 1 | 2 | 3 | 4 | 5 | 6 | 7 | 8 | 9 |\n",
       "| <!----> | 9 | 8 | 7 | 6 | 5 | 4 | 3 | 2 | 1 |\n",
       "| <!----> | 1 | 1 | 1 | 1 | 1 | 1 | 1 | 1 | 1 |\n",
       "\n"
      ],
      "text/plain": [
       "  [,1] [,2] [,3] [,4] [,5] [,6] [,7] [,8] [,9]\n",
       "x 1    2    3    4    5    6    7    8    9   \n",
       "  9    8    7    6    5    4    3    2    1   \n",
       "  1    1    1    1    1    1    1    1    1   "
      ]
     },
     "metadata": {},
     "output_type": "display_data"
    },
    {
     "data": {
      "text/html": [
       "<table>\n",
       "<caption>A matrix: 9 × 3 of type dbl</caption>\n",
       "<thead>\n",
       "\t<tr><th scope=col>col_1</th><th scope=col>col_2</th><th scope=col>col_3</th></tr>\n",
       "</thead>\n",
       "<tbody>\n",
       "\t<tr><td>1</td><td>9</td><td>1</td></tr>\n",
       "\t<tr><td>2</td><td>8</td><td>1</td></tr>\n",
       "\t<tr><td>3</td><td>7</td><td>1</td></tr>\n",
       "\t<tr><td>4</td><td>6</td><td>1</td></tr>\n",
       "\t<tr><td>5</td><td>5</td><td>1</td></tr>\n",
       "\t<tr><td>6</td><td>4</td><td>1</td></tr>\n",
       "\t<tr><td>7</td><td>3</td><td>1</td></tr>\n",
       "\t<tr><td>8</td><td>2</td><td>1</td></tr>\n",
       "\t<tr><td>9</td><td>1</td><td>1</td></tr>\n",
       "</tbody>\n",
       "</table>\n"
      ],
      "text/latex": [
       "A matrix: 9 × 3 of type dbl\n",
       "\\begin{tabular}{lll}\n",
       " col\\_1 & col\\_2 & col\\_3\\\\\n",
       "\\hline\n",
       "\t 1 & 9 & 1\\\\\n",
       "\t 2 & 8 & 1\\\\\n",
       "\t 3 & 7 & 1\\\\\n",
       "\t 4 & 6 & 1\\\\\n",
       "\t 5 & 5 & 1\\\\\n",
       "\t 6 & 4 & 1\\\\\n",
       "\t 7 & 3 & 1\\\\\n",
       "\t 8 & 2 & 1\\\\\n",
       "\t 9 & 1 & 1\\\\\n",
       "\\end{tabular}\n"
      ],
      "text/markdown": [
       "\n",
       "A matrix: 9 × 3 of type dbl\n",
       "\n",
       "| col_1 | col_2 | col_3 |\n",
       "|---|---|---|\n",
       "| 1 | 9 | 1 |\n",
       "| 2 | 8 | 1 |\n",
       "| 3 | 7 | 1 |\n",
       "| 4 | 6 | 1 |\n",
       "| 5 | 5 | 1 |\n",
       "| 6 | 4 | 1 |\n",
       "| 7 | 3 | 1 |\n",
       "| 8 | 2 | 1 |\n",
       "| 9 | 1 | 1 |\n",
       "\n"
      ],
      "text/plain": [
       "      col_1 col_2 col_3\n",
       " [1,] 1     9     1    \n",
       " [2,] 2     8     1    \n",
       " [3,] 3     7     1    \n",
       " [4,] 4     6     1    \n",
       " [5,] 5     5     1    \n",
       " [6,] 6     4     1    \n",
       " [7,] 7     3     1    \n",
       " [8,] 8     2     1    \n",
       " [9,] 9     1     1    "
      ]
     },
     "metadata": {},
     "output_type": "display_data"
    },
    {
     "data": {
      "text/html": [
       "<table>\n",
       "<caption>A matrix: 3 × 3 of type int</caption>\n",
       "<tbody>\n",
       "\t<tr><td>10</td><td>10</td><td>10</td></tr>\n",
       "\t<tr><td>10</td><td>10</td><td>10</td></tr>\n",
       "\t<tr><td>10</td><td>10</td><td>10</td></tr>\n",
       "</tbody>\n",
       "</table>\n"
      ],
      "text/latex": [
       "A matrix: 3 × 3 of type int\n",
       "\\begin{tabular}{lll}\n",
       "\t 10 & 10 & 10\\\\\n",
       "\t 10 & 10 & 10\\\\\n",
       "\t 10 & 10 & 10\\\\\n",
       "\\end{tabular}\n"
      ],
      "text/markdown": [
       "\n",
       "A matrix: 3 × 3 of type int\n",
       "\n",
       "| 10 | 10 | 10 |\n",
       "| 10 | 10 | 10 |\n",
       "| 10 | 10 | 10 |\n",
       "\n"
      ],
      "text/plain": [
       "     [,1] [,2] [,3]\n",
       "[1,] 10   10   10  \n",
       "[2,] 10   10   10  \n",
       "[3,] 10   10   10  "
      ]
     },
     "metadata": {},
     "output_type": "display_data"
    },
    {
     "data": {
      "text/html": [
       "<table>\n",
       "<caption>A matrix: 3 × 3 of type int</caption>\n",
       "<tbody>\n",
       "\t<tr><td>-8</td><td>-2</td><td>4</td></tr>\n",
       "\t<tr><td>-6</td><td> 0</td><td>6</td></tr>\n",
       "\t<tr><td>-4</td><td> 2</td><td>8</td></tr>\n",
       "</tbody>\n",
       "</table>\n"
      ],
      "text/latex": [
       "A matrix: 3 × 3 of type int\n",
       "\\begin{tabular}{lll}\n",
       "\t -8 & -2 & 4\\\\\n",
       "\t -6 &  0 & 6\\\\\n",
       "\t -4 &  2 & 8\\\\\n",
       "\\end{tabular}\n"
      ],
      "text/markdown": [
       "\n",
       "A matrix: 3 × 3 of type int\n",
       "\n",
       "| -8 | -2 | 4 |\n",
       "| -6 |  0 | 6 |\n",
       "| -4 |  2 | 8 |\n",
       "\n"
      ],
      "text/plain": [
       "     [,1] [,2] [,3]\n",
       "[1,] -8   -2   4   \n",
       "[2,] -6    0   6   \n",
       "[3,] -4    2   8   "
      ]
     },
     "metadata": {},
     "output_type": "display_data"
    },
    {
     "data": {
      "text/html": [
       "<table>\n",
       "<caption>A matrix: 3 × 3 of type dbl</caption>\n",
       "<tbody>\n",
       "\t<tr><td>0.1111111</td><td>0.6666667</td><td>2.333333</td></tr>\n",
       "\t<tr><td>0.2500000</td><td>1.0000000</td><td>4.000000</td></tr>\n",
       "\t<tr><td>0.4285714</td><td>1.5000000</td><td>9.000000</td></tr>\n",
       "</tbody>\n",
       "</table>\n"
      ],
      "text/latex": [
       "A matrix: 3 × 3 of type dbl\n",
       "\\begin{tabular}{lll}\n",
       "\t 0.1111111 & 0.6666667 & 2.333333\\\\\n",
       "\t 0.2500000 & 1.0000000 & 4.000000\\\\\n",
       "\t 0.4285714 & 1.5000000 & 9.000000\\\\\n",
       "\\end{tabular}\n"
      ],
      "text/markdown": [
       "\n",
       "A matrix: 3 × 3 of type dbl\n",
       "\n",
       "| 0.1111111 | 0.6666667 | 2.333333 |\n",
       "| 0.2500000 | 1.0000000 | 4.000000 |\n",
       "| 0.4285714 | 1.5000000 | 9.000000 |\n",
       "\n"
      ],
      "text/plain": [
       "     [,1]      [,2]      [,3]    \n",
       "[1,] 0.1111111 0.6666667 2.333333\n",
       "[2,] 0.2500000 1.0000000 4.000000\n",
       "[3,] 0.4285714 1.5000000 9.000000"
      ]
     },
     "metadata": {},
     "output_type": "display_data"
    },
    {
     "data": {
      "text/html": [
       "<table>\n",
       "<caption>A matrix: 3 × 3 of type int</caption>\n",
       "<tbody>\n",
       "\t<tr><td> 9</td><td>24</td><td>21</td></tr>\n",
       "\t<tr><td>16</td><td>25</td><td>16</td></tr>\n",
       "\t<tr><td>21</td><td>24</td><td> 9</td></tr>\n",
       "</tbody>\n",
       "</table>\n"
      ],
      "text/latex": [
       "A matrix: 3 × 3 of type int\n",
       "\\begin{tabular}{lll}\n",
       "\t  9 & 24 & 21\\\\\n",
       "\t 16 & 25 & 16\\\\\n",
       "\t 21 & 24 &  9\\\\\n",
       "\\end{tabular}\n"
      ],
      "text/markdown": [
       "\n",
       "A matrix: 3 × 3 of type int\n",
       "\n",
       "|  9 | 24 | 21 |\n",
       "| 16 | 25 | 16 |\n",
       "| 21 | 24 |  9 |\n",
       "\n"
      ],
      "text/plain": [
       "     [,1] [,2] [,3]\n",
       "[1,]  9   24   21  \n",
       "[2,] 16   25   16  \n",
       "[3,] 21   24    9  "
      ]
     },
     "metadata": {},
     "output_type": "display_data"
    },
    {
     "data": {
      "text/html": [
       "<table>\n",
       "<caption>A matrix: 3 × 3 of type dbl</caption>\n",
       "<tbody>\n",
       "\t<tr><td> 90</td><td>54</td><td>18</td></tr>\n",
       "\t<tr><td>114</td><td>69</td><td>24</td></tr>\n",
       "\t<tr><td>138</td><td>84</td><td>30</td></tr>\n",
       "</tbody>\n",
       "</table>\n"
      ],
      "text/latex": [
       "A matrix: 3 × 3 of type dbl\n",
       "\\begin{tabular}{lll}\n",
       "\t  90 & 54 & 18\\\\\n",
       "\t 114 & 69 & 24\\\\\n",
       "\t 138 & 84 & 30\\\\\n",
       "\\end{tabular}\n"
      ],
      "text/markdown": [
       "\n",
       "A matrix: 3 × 3 of type dbl\n",
       "\n",
       "|  90 | 54 | 18 |\n",
       "| 114 | 69 | 24 |\n",
       "| 138 | 84 | 30 |\n",
       "\n"
      ],
      "text/plain": [
       "     [,1] [,2] [,3]\n",
       "[1,]  90  54   18  \n",
       "[2,] 114  69   24  \n",
       "[3,] 138  84   30  "
      ]
     },
     "metadata": {},
     "output_type": "display_data"
    },
    {
     "data": {
      "text/html": [
       "<style>\n",
       ".list-inline {list-style: none; margin:0; padding: 0}\n",
       ".list-inline>li {display: inline-block}\n",
       ".list-inline>li:not(:last-child)::after {content: \"\\00b7\"; padding: 0 .5ex}\n",
       "</style>\n",
       "<ol class=list-inline><li>6</li><li>15</li><li>24</li></ol>\n"
      ],
      "text/latex": [
       "\\begin{enumerate*}\n",
       "\\item 6\n",
       "\\item 15\n",
       "\\item 24\n",
       "\\end{enumerate*}\n"
      ],
      "text/markdown": [
       "1. 6\n",
       "2. 15\n",
       "3. 24\n",
       "\n",
       "\n"
      ],
      "text/plain": [
       "[1]  6 15 24"
      ]
     },
     "metadata": {},
     "output_type": "display_data"
    },
    {
     "data": {
      "text/html": [
       "<style>\n",
       ".list-inline {list-style: none; margin:0; padding: 0}\n",
       ".list-inline>li {display: inline-block}\n",
       ".list-inline>li:not(:last-child)::after {content: \"\\00b7\"; padding: 0 .5ex}\n",
       "</style>\n",
       "<ol class=list-inline><li>18</li><li>15</li><li>12</li></ol>\n"
      ],
      "text/latex": [
       "\\begin{enumerate*}\n",
       "\\item 18\n",
       "\\item 15\n",
       "\\item 12\n",
       "\\end{enumerate*}\n"
      ],
      "text/markdown": [
       "1. 18\n",
       "2. 15\n",
       "3. 12\n",
       "\n",
       "\n"
      ],
      "text/plain": [
       "[1] 18 15 12"
      ]
     },
     "metadata": {},
     "output_type": "display_data"
    },
    {
     "data": {
      "text/html": [
       "<style>\n",
       ".list-inline {list-style: none; margin:0; padding: 0}\n",
       ".list-inline>li {display: inline-block}\n",
       ".list-inline>li:not(:last-child)::after {content: \"\\00b7\"; padding: 0 .5ex}\n",
       "</style>\n",
       "<ol class=list-inline><li>4</li><li>5</li><li>6</li></ol>\n"
      ],
      "text/latex": [
       "\\begin{enumerate*}\n",
       "\\item 4\n",
       "\\item 5\n",
       "\\item 6\n",
       "\\end{enumerate*}\n"
      ],
      "text/markdown": [
       "1. 4\n",
       "2. 5\n",
       "3. 6\n",
       "\n",
       "\n"
      ],
      "text/plain": [
       "[1] 4 5 6"
      ]
     },
     "metadata": {},
     "output_type": "display_data"
    },
    {
     "data": {
      "text/html": [
       "<style>\n",
       ".list-inline {list-style: none; margin:0; padding: 0}\n",
       ".list-inline>li {display: inline-block}\n",
       ".list-inline>li:not(:last-child)::after {content: \"\\00b7\"; padding: 0 .5ex}\n",
       "</style>\n",
       "<ol class=list-inline><li>8</li><li>5</li><li>2</li></ol>\n"
      ],
      "text/latex": [
       "\\begin{enumerate*}\n",
       "\\item 8\n",
       "\\item 5\n",
       "\\item 2\n",
       "\\end{enumerate*}\n"
      ],
      "text/markdown": [
       "1. 8\n",
       "2. 5\n",
       "3. 2\n",
       "\n",
       "\n"
      ],
      "text/plain": [
       "[1] 8 5 2"
      ]
     },
     "metadata": {},
     "output_type": "display_data"
    },
    {
     "data": {
      "text/html": [
       "<style>\n",
       ".list-inline {list-style: none; margin:0; padding: 0}\n",
       ".list-inline>li {display: inline-block}\n",
       ".list-inline>li:not(:last-child)::after {content: \"\\00b7\"; padding: 0 .5ex}\n",
       "</style>\n",
       "<ol class=list-inline><li>1</li><li>5</li><li>9</li></ol>\n"
      ],
      "text/latex": [
       "\\begin{enumerate*}\n",
       "\\item 1\n",
       "\\item 5\n",
       "\\item 9\n",
       "\\end{enumerate*}\n"
      ],
      "text/markdown": [
       "1. 1\n",
       "2. 5\n",
       "3. 9\n",
       "\n",
       "\n"
      ],
      "text/plain": [
       "[1] 1 5 9"
      ]
     },
     "metadata": {},
     "output_type": "display_data"
    }
   ],
   "source": [
    "print(\"2.Matrix/array\")\n",
    "x = 1:9\n",
    "X = matrix(x, nrow = 3, ncol = 3)\n",
    "Y = matrix(x, nrow = 3, ncol = 3, byrow = TRUE)\n",
    "X\n",
    "Y\n",
    "X[1, 2]\n",
    "Y[1,]\n",
    "Y[,2]\n",
    "X[1,c(2:3)]\n",
    "rbind(x, rev(x), rep(1, 9))\n",
    "Z =rbind(x, rev(x), rep(1, 9))\n",
    "Z\n",
    "cbind(col_1 = x, col_2 = rev(x), col_3 = rep(1, 9))\n",
    "##When using rbind and cbind you can specify “argument” names that will be used as column names.\n",
    "x = 1:9\n",
    "y = 9:1\n",
    "X = matrix(x, 3, 3)\n",
    "Y = matrix(y, 3, 3)\n",
    "#Matrix calculation\n",
    "X + Y\n",
    "X - Y\n",
    "X/Y\n",
    "X*Y\n",
    "X%*%Y\n",
    "colSums(X)\n",
    "rowSums(Y)\n",
    "rowMeans(X)\n",
    "colMeans(Y)\n",
    "diag(X)"
   ]
  },
  {
   "cell_type": "code",
   "execution_count": 44,
   "metadata": {},
   "outputs": [
    {
     "name": "stdout",
     "output_type": "stream",
     "text": [
      "[1] \"1.list\"\n"
     ]
    },
    {
     "data": {
      "text/html": [
       "<dl>\n",
       "\t<dt>$BRCA_genes</dt>\n",
       "\t\t<dd><style>\n",
       ".list-inline {list-style: none; margin:0; padding: 0}\n",
       ".list-inline>li {display: inline-block}\n",
       ".list-inline>li:not(:last-child)::after {content: \"\\00b7\"; padding: 0 .5ex}\n",
       "</style>\n",
       "<ol class=list-inline><li>'BRCA1'</li><li>'BRCA2'</li></ol>\n",
       "</dd>\n",
       "\t<dt>$LUAD_genes</dt>\n",
       "\t\t<dd><style>\n",
       ".list-inline {list-style: none; margin:0; padding: 0}\n",
       ".list-inline>li {display: inline-block}\n",
       ".list-inline>li:not(:last-child)::after {content: \"\\00b7\"; padding: 0 .5ex}\n",
       "</style>\n",
       "<ol class=list-inline><li>'EGFR'</li><li>'KRAS'</li><li>'BRAF'</li></ol>\n",
       "</dd>\n",
       "</dl>\n"
      ],
      "text/latex": [
       "\\begin{description}\n",
       "\\item[\\$BRCA\\_genes] \\begin{enumerate*}\n",
       "\\item 'BRCA1'\n",
       "\\item 'BRCA2'\n",
       "\\end{enumerate*}\n",
       "\n",
       "\\item[\\$LUAD\\_genes] \\begin{enumerate*}\n",
       "\\item 'EGFR'\n",
       "\\item 'KRAS'\n",
       "\\item 'BRAF'\n",
       "\\end{enumerate*}\n",
       "\n",
       "\\end{description}\n"
      ],
      "text/markdown": [
       "$BRCA_genes\n",
       ":   1. 'BRCA1'\n",
       "2. 'BRCA2'\n",
       "\n",
       "\n",
       "\n",
       "$LUAD_genes\n",
       ":   1. 'EGFR'\n",
       "2. 'KRAS'\n",
       "3. 'BRAF'\n",
       "\n",
       "\n",
       "\n",
       "\n",
       "\n"
      ],
      "text/plain": [
       "$BRCA_genes\n",
       "[1] \"BRCA1\" \"BRCA2\"\n",
       "\n",
       "$LUAD_genes\n",
       "[1] \"EGFR\" \"KRAS\" \"BRAF\"\n"
      ]
     },
     "metadata": {},
     "output_type": "display_data"
    },
    {
     "data": {
      "text/html": [
       "<strong>$BRCA_genes</strong> = <style>\n",
       ".list-inline {list-style: none; margin:0; padding: 0}\n",
       ".list-inline>li {display: inline-block}\n",
       ".list-inline>li:not(:last-child)::after {content: \"\\00b7\"; padding: 0 .5ex}\n",
       "</style>\n",
       "<ol class=list-inline><li>'BRCA1'</li><li>'BRCA2'</li></ol>\n"
      ],
      "text/latex": [
       "\\textbf{\\$BRCA\\_genes} = \\begin{enumerate*}\n",
       "\\item 'BRCA1'\n",
       "\\item 'BRCA2'\n",
       "\\end{enumerate*}\n"
      ],
      "text/markdown": [
       "**$BRCA_genes** = 1. 'BRCA1'\n",
       "2. 'BRCA2'\n",
       "\n",
       "\n"
      ],
      "text/plain": [
       "$BRCA_genes\n",
       "[1] \"BRCA1\" \"BRCA2\"\n"
      ]
     },
     "metadata": {},
     "output_type": "display_data"
    },
    {
     "data": {
      "text/html": [
       "<style>\n",
       ".list-inline {list-style: none; margin:0; padding: 0}\n",
       ".list-inline>li {display: inline-block}\n",
       ".list-inline>li:not(:last-child)::after {content: \"\\00b7\"; padding: 0 .5ex}\n",
       "</style>\n",
       "<ol class=list-inline><li>'BRCA1'</li><li>'BRCA2'</li></ol>\n"
      ],
      "text/latex": [
       "\\begin{enumerate*}\n",
       "\\item 'BRCA1'\n",
       "\\item 'BRCA2'\n",
       "\\end{enumerate*}\n"
      ],
      "text/markdown": [
       "1. 'BRCA1'\n",
       "2. 'BRCA2'\n",
       "\n",
       "\n"
      ],
      "text/plain": [
       "[1] \"BRCA1\" \"BRCA2\""
      ]
     },
     "metadata": {},
     "output_type": "display_data"
    },
    {
     "data": {
      "text/html": [
       "<style>\n",
       ".list-inline {list-style: none; margin:0; padding: 0}\n",
       ".list-inline>li {display: inline-block}\n",
       ".list-inline>li:not(:last-child)::after {content: \"\\00b7\"; padding: 0 .5ex}\n",
       "</style>\n",
       "<ol class=list-inline><li>'BRCA1'</li><li>'BRCA2'</li></ol>\n"
      ],
      "text/latex": [
       "\\begin{enumerate*}\n",
       "\\item 'BRCA1'\n",
       "\\item 'BRCA2'\n",
       "\\end{enumerate*}\n"
      ],
      "text/markdown": [
       "1. 'BRCA1'\n",
       "2. 'BRCA2'\n",
       "\n",
       "\n"
      ],
      "text/plain": [
       "[1] \"BRCA1\" \"BRCA2\""
      ]
     },
     "metadata": {},
     "output_type": "display_data"
    },
    {
     "data": {
      "text/html": [
       "<style>\n",
       ".list-inline {list-style: none; margin:0; padding: 0}\n",
       ".list-inline>li {display: inline-block}\n",
       ".list-inline>li:not(:last-child)::after {content: \"\\00b7\"; padding: 0 .5ex}\n",
       "</style>\n",
       "<ol class=list-inline><li>'BRCA1'</li><li>'BRCA2'</li></ol>\n"
      ],
      "text/latex": [
       "\\begin{enumerate*}\n",
       "\\item 'BRCA1'\n",
       "\\item 'BRCA2'\n",
       "\\end{enumerate*}\n"
      ],
      "text/markdown": [
       "1. 'BRCA1'\n",
       "2. 'BRCA2'\n",
       "\n",
       "\n"
      ],
      "text/plain": [
       "[1] \"BRCA1\" \"BRCA2\""
      ]
     },
     "metadata": {},
     "output_type": "display_data"
    }
   ],
   "source": [
    "print(\"1.list\")\n",
    "x = list()\n",
    "x[[\"BRCA_genes\"]] = c(\"BRCA1\", \"BRCA2\")\n",
    "x[[\"LUAD_genes\"]] = c(\"EGFR\", \"KRAS\", \"BRAF\")\n",
    "x\n",
    "x[1]\n",
    "x[[1]]\n",
    "x[[\"BRCA_genes\"]]\n",
    "x$BRCA_genes\n",
    "\n"
   ]
  },
  {
   "cell_type": "code",
   "execution_count": 42,
   "metadata": {},
   "outputs": [
    {
     "name": "stdout",
     "output_type": "stream",
     "text": [
      "[1] \"1.Data frame\"\n"
     ]
    },
    {
     "data": {
      "text/html": [
       "<table>\n",
       "<caption>A data.frame: 10 × 3</caption>\n",
       "<thead>\n",
       "\t<tr><th scope=col>x</th><th scope=col>y</th><th scope=col>z</th></tr>\n",
       "\t<tr><th scope=col>&lt;dbl&gt;</th><th scope=col>&lt;fct&gt;</th><th scope=col>&lt;lgl&gt;</th></tr>\n",
       "</thead>\n",
       "<tbody>\n",
       "\t<tr><td> 1</td><td>Hello  </td><td> TRUE</td></tr>\n",
       "\t<tr><td> 2</td><td>Hello  </td><td>FALSE</td></tr>\n",
       "\t<tr><td> 3</td><td>Hello  </td><td> TRUE</td></tr>\n",
       "\t<tr><td> 4</td><td>Hello  </td><td>FALSE</td></tr>\n",
       "\t<tr><td> 5</td><td>Hello  </td><td> TRUE</td></tr>\n",
       "\t<tr><td> 6</td><td>Hello  </td><td>FALSE</td></tr>\n",
       "\t<tr><td> 7</td><td>Hello  </td><td> TRUE</td></tr>\n",
       "\t<tr><td> 8</td><td>Hello  </td><td>FALSE</td></tr>\n",
       "\t<tr><td> 9</td><td>Hello  </td><td> TRUE</td></tr>\n",
       "\t<tr><td>10</td><td>Goodbye</td><td>FALSE</td></tr>\n",
       "</tbody>\n",
       "</table>\n"
      ],
      "text/latex": [
       "A data.frame: 10 × 3\n",
       "\\begin{tabular}{lll}\n",
       " x & y & z\\\\\n",
       " <dbl> & <fct> & <lgl>\\\\\n",
       "\\hline\n",
       "\t  1 & Hello   &  TRUE\\\\\n",
       "\t  2 & Hello   & FALSE\\\\\n",
       "\t  3 & Hello   &  TRUE\\\\\n",
       "\t  4 & Hello   & FALSE\\\\\n",
       "\t  5 & Hello   &  TRUE\\\\\n",
       "\t  6 & Hello   & FALSE\\\\\n",
       "\t  7 & Hello   &  TRUE\\\\\n",
       "\t  8 & Hello   & FALSE\\\\\n",
       "\t  9 & Hello   &  TRUE\\\\\n",
       "\t 10 & Goodbye & FALSE\\\\\n",
       "\\end{tabular}\n"
      ],
      "text/markdown": [
       "\n",
       "A data.frame: 10 × 3\n",
       "\n",
       "| x &lt;dbl&gt; | y &lt;fct&gt; | z &lt;lgl&gt; |\n",
       "|---|---|---|\n",
       "|  1 | Hello   |  TRUE |\n",
       "|  2 | Hello   | FALSE |\n",
       "|  3 | Hello   |  TRUE |\n",
       "|  4 | Hello   | FALSE |\n",
       "|  5 | Hello   |  TRUE |\n",
       "|  6 | Hello   | FALSE |\n",
       "|  7 | Hello   |  TRUE |\n",
       "|  8 | Hello   | FALSE |\n",
       "|  9 | Hello   |  TRUE |\n",
       "| 10 | Goodbye | FALSE |\n",
       "\n"
      ],
      "text/plain": [
       "   x  y       z    \n",
       "1   1 Hello    TRUE\n",
       "2   2 Hello   FALSE\n",
       "3   3 Hello    TRUE\n",
       "4   4 Hello   FALSE\n",
       "5   5 Hello    TRUE\n",
       "6   6 Hello   FALSE\n",
       "7   7 Hello    TRUE\n",
       "8   8 Hello   FALSE\n",
       "9   9 Hello    TRUE\n",
       "10 10 Goodbye FALSE"
      ]
     },
     "metadata": {},
     "output_type": "display_data"
    },
    {
     "name": "stdout",
     "output_type": "stream",
     "text": [
      "'data.frame':\t10 obs. of  3 variables:\n",
      " $ x: num  1 2 3 4 5 6 7 8 9 10\n",
      " $ y: Factor w/ 2 levels \"Goodbye\",\"Hello\": 2 2 2 2 2 2 2 2 2 1\n",
      " $ z: logi  TRUE FALSE TRUE FALSE TRUE FALSE ...\n"
     ]
    },
    {
     "data": {
      "text/html": [
       "10"
      ],
      "text/latex": [
       "10"
      ],
      "text/markdown": [
       "10"
      ],
      "text/plain": [
       "[1] 10"
      ]
     },
     "metadata": {},
     "output_type": "display_data"
    },
    {
     "data": {
      "text/html": [
       "3"
      ],
      "text/latex": [
       "3"
      ],
      "text/markdown": [
       "3"
      ],
      "text/plain": [
       "[1] 3"
      ]
     },
     "metadata": {},
     "output_type": "display_data"
    },
    {
     "data": {
      "text/html": [
       "<style>\n",
       ".list-inline {list-style: none; margin:0; padding: 0}\n",
       ".list-inline>li {display: inline-block}\n",
       ".list-inline>li:not(:last-child)::after {content: \"\\00b7\"; padding: 0 .5ex}\n",
       "</style>\n",
       "<ol class=list-inline><li>10</li><li>3</li></ol>\n"
      ],
      "text/latex": [
       "\\begin{enumerate*}\n",
       "\\item 10\n",
       "\\item 3\n",
       "\\end{enumerate*}\n"
      ],
      "text/markdown": [
       "1. 10\n",
       "2. 3\n",
       "\n",
       "\n"
      ],
      "text/plain": [
       "[1] 10  3"
      ]
     },
     "metadata": {},
     "output_type": "display_data"
    }
   ],
   "source": [
    "print(\"1.Data frame\")\n",
    "example_data = data.frame(x = seq(1,10,1),\n",
    "                          y = c(rep(\"Hello\", 9), \"Goodbye\"),\n",
    "                          z = rep(c(TRUE, FALSE), 5))\n",
    "example_data\n",
    "#Unlike a list which has more flexibility, the elements of a data frame must all be vectors, and have the same length.\n",
    "str(example_data)\n",
    "nrow(example_data)\n",
    "ncol(example_data)\n",
    "dim(example_data)\n"
   ]
  },
  {
   "cell_type": "code",
   "execution_count": 45,
   "metadata": {
    "scrolled": true
   },
   "outputs": [
    {
     "name": "stdout",
     "output_type": "stream",
     "text": [
      "[1] \"Lab exercise: input and output\"\n"
     ]
    },
    {
     "data": {
      "text/html": [
       "'H:/'"
      ],
      "text/latex": [
       "'H:/'"
      ],
      "text/markdown": [
       "'H:/'"
      ],
      "text/plain": [
       "[1] \"H:/\""
      ]
     },
     "metadata": {},
     "output_type": "display_data"
    },
    {
     "data": {
      "text/html": [
       "<style>\n",
       ".list-inline {list-style: none; margin:0; padding: 0}\n",
       ".list-inline>li {display: inline-block}\n",
       ".list-inline>li:not(:last-child)::after {content: \"\\00b7\"; padding: 0 .5ex}\n",
       "</style>\n",
       "<ol class=list-inline><li>'example_data'</li><li>'factors'</li><li>'mtcars'</li><li>'wd'</li><li>'x'</li><li>'X'</li><li>'y'</li><li>'Y'</li><li>'Z'</li></ol>\n"
      ],
      "text/latex": [
       "\\begin{enumerate*}\n",
       "\\item 'example\\_data'\n",
       "\\item 'factors'\n",
       "\\item 'mtcars'\n",
       "\\item 'wd'\n",
       "\\item 'x'\n",
       "\\item 'X'\n",
       "\\item 'y'\n",
       "\\item 'Y'\n",
       "\\item 'Z'\n",
       "\\end{enumerate*}\n"
      ],
      "text/markdown": [
       "1. 'example_data'\n",
       "2. 'factors'\n",
       "3. 'mtcars'\n",
       "4. 'wd'\n",
       "5. 'x'\n",
       "6. 'X'\n",
       "7. 'y'\n",
       "8. 'Y'\n",
       "9. 'Z'\n",
       "\n",
       "\n"
      ],
      "text/plain": [
       "[1] \"example_data\" \"factors\"      \"mtcars\"       \"wd\"           \"x\"           \n",
       "[6] \"X\"            \"y\"            \"Y\"            \"Z\"           "
      ]
     },
     "metadata": {},
     "output_type": "display_data"
    },
    {
     "data": {
      "text/html": [
       "<table>\n",
       "<caption>A data.frame: 6 × 11</caption>\n",
       "<thead>\n",
       "\t<tr><th></th><th scope=col>mpg</th><th scope=col>cyl</th><th scope=col>disp</th><th scope=col>hp</th><th scope=col>drat</th><th scope=col>wt</th><th scope=col>qsec</th><th scope=col>vs</th><th scope=col>am</th><th scope=col>gear</th><th scope=col>carb</th></tr>\n",
       "\t<tr><th></th><th scope=col>&lt;dbl&gt;</th><th scope=col>&lt;dbl&gt;</th><th scope=col>&lt;dbl&gt;</th><th scope=col>&lt;dbl&gt;</th><th scope=col>&lt;dbl&gt;</th><th scope=col>&lt;dbl&gt;</th><th scope=col>&lt;dbl&gt;</th><th scope=col>&lt;dbl&gt;</th><th scope=col>&lt;dbl&gt;</th><th scope=col>&lt;dbl&gt;</th><th scope=col>&lt;dbl&gt;</th></tr>\n",
       "</thead>\n",
       "<tbody>\n",
       "\t<tr><th scope=row>Mazda RX4</th><td>21.0</td><td>6</td><td>160</td><td>110</td><td>3.90</td><td>2.620</td><td>16.46</td><td>0</td><td>1</td><td>4</td><td>4</td></tr>\n",
       "\t<tr><th scope=row>Mazda RX4 Wag</th><td>21.0</td><td>6</td><td>160</td><td>110</td><td>3.90</td><td>2.875</td><td>17.02</td><td>0</td><td>1</td><td>4</td><td>4</td></tr>\n",
       "\t<tr><th scope=row>Datsun 710</th><td>22.8</td><td>4</td><td>108</td><td> 93</td><td>3.85</td><td>2.320</td><td>18.61</td><td>1</td><td>1</td><td>4</td><td>1</td></tr>\n",
       "\t<tr><th scope=row>Hornet 4 Drive</th><td>21.4</td><td>6</td><td>258</td><td>110</td><td>3.08</td><td>3.215</td><td>19.44</td><td>1</td><td>0</td><td>3</td><td>1</td></tr>\n",
       "\t<tr><th scope=row>Hornet Sportabout</th><td>18.7</td><td>8</td><td>360</td><td>175</td><td>3.15</td><td>3.440</td><td>17.02</td><td>0</td><td>0</td><td>3</td><td>2</td></tr>\n",
       "\t<tr><th scope=row>Valiant</th><td>18.1</td><td>6</td><td>225</td><td>105</td><td>2.76</td><td>3.460</td><td>20.22</td><td>1</td><td>0</td><td>3</td><td>1</td></tr>\n",
       "</tbody>\n",
       "</table>\n"
      ],
      "text/latex": [
       "A data.frame: 6 × 11\n",
       "\\begin{tabular}{r|lllllllllll}\n",
       "  & mpg & cyl & disp & hp & drat & wt & qsec & vs & am & gear & carb\\\\\n",
       "  & <dbl> & <dbl> & <dbl> & <dbl> & <dbl> & <dbl> & <dbl> & <dbl> & <dbl> & <dbl> & <dbl>\\\\\n",
       "\\hline\n",
       "\tMazda RX4 & 21.0 & 6 & 160 & 110 & 3.90 & 2.620 & 16.46 & 0 & 1 & 4 & 4\\\\\n",
       "\tMazda RX4 Wag & 21.0 & 6 & 160 & 110 & 3.90 & 2.875 & 17.02 & 0 & 1 & 4 & 4\\\\\n",
       "\tDatsun 710 & 22.8 & 4 & 108 &  93 & 3.85 & 2.320 & 18.61 & 1 & 1 & 4 & 1\\\\\n",
       "\tHornet 4 Drive & 21.4 & 6 & 258 & 110 & 3.08 & 3.215 & 19.44 & 1 & 0 & 3 & 1\\\\\n",
       "\tHornet Sportabout & 18.7 & 8 & 360 & 175 & 3.15 & 3.440 & 17.02 & 0 & 0 & 3 & 2\\\\\n",
       "\tValiant & 18.1 & 6 & 225 & 105 & 2.76 & 3.460 & 20.22 & 1 & 0 & 3 & 1\\\\\n",
       "\\end{tabular}\n"
      ],
      "text/markdown": [
       "\n",
       "A data.frame: 6 × 11\n",
       "\n",
       "| <!--/--> | mpg &lt;dbl&gt; | cyl &lt;dbl&gt; | disp &lt;dbl&gt; | hp &lt;dbl&gt; | drat &lt;dbl&gt; | wt &lt;dbl&gt; | qsec &lt;dbl&gt; | vs &lt;dbl&gt; | am &lt;dbl&gt; | gear &lt;dbl&gt; | carb &lt;dbl&gt; |\n",
       "|---|---|---|---|---|---|---|---|---|---|---|---|\n",
       "| Mazda RX4 | 21.0 | 6 | 160 | 110 | 3.90 | 2.620 | 16.46 | 0 | 1 | 4 | 4 |\n",
       "| Mazda RX4 Wag | 21.0 | 6 | 160 | 110 | 3.90 | 2.875 | 17.02 | 0 | 1 | 4 | 4 |\n",
       "| Datsun 710 | 22.8 | 4 | 108 |  93 | 3.85 | 2.320 | 18.61 | 1 | 1 | 4 | 1 |\n",
       "| Hornet 4 Drive | 21.4 | 6 | 258 | 110 | 3.08 | 3.215 | 19.44 | 1 | 0 | 3 | 1 |\n",
       "| Hornet Sportabout | 18.7 | 8 | 360 | 175 | 3.15 | 3.440 | 17.02 | 0 | 0 | 3 | 2 |\n",
       "| Valiant | 18.1 | 6 | 225 | 105 | 2.76 | 3.460 | 20.22 | 1 | 0 | 3 | 1 |\n",
       "\n"
      ],
      "text/plain": [
       "                  mpg  cyl disp hp  drat wt    qsec  vs am gear carb\n",
       "Mazda RX4         21.0 6   160  110 3.90 2.620 16.46 0  1  4    4   \n",
       "Mazda RX4 Wag     21.0 6   160  110 3.90 2.875 17.02 0  1  4    4   \n",
       "Datsun 710        22.8 4   108   93 3.85 2.320 18.61 1  1  4    1   \n",
       "Hornet 4 Drive    21.4 6   258  110 3.08 3.215 19.44 1  0  3    1   \n",
       "Hornet Sportabout 18.7 8   360  175 3.15 3.440 17.02 0  0  3    2   \n",
       "Valiant           18.1 6   225  105 2.76 3.460 20.22 1  0  3    1   "
      ]
     },
     "metadata": {},
     "output_type": "display_data"
    },
    {
     "data": {
      "text/html": [
       "<style>\n",
       ".list-inline {list-style: none; margin:0; padding: 0}\n",
       ".list-inline>li {display: inline-block}\n",
       ".list-inline>li:not(:last-child)::after {content: \"\\00b7\"; padding: 0 .5ex}\n",
       "</style>\n",
       "<ol class=list-inline><li>32</li><li>11</li></ol>\n"
      ],
      "text/latex": [
       "\\begin{enumerate*}\n",
       "\\item 32\n",
       "\\item 11\n",
       "\\end{enumerate*}\n"
      ],
      "text/markdown": [
       "1. 32\n",
       "2. 11\n",
       "\n",
       "\n"
      ],
      "text/plain": [
       "[1] 32 11"
      ]
     },
     "metadata": {},
     "output_type": "display_data"
    },
    {
     "data": {
      "text/html": [
       "<table>\n",
       "<caption>A data.frame: 32 × 1</caption>\n",
       "<thead>\n",
       "\t<tr><th scope=col>mpg.cyl.disp.hp.drat.wt.qsec.vs.am.gear.carb</th></tr>\n",
       "\t<tr><th scope=col>&lt;fct&gt;</th></tr>\n",
       "</thead>\n",
       "<tbody>\n",
       "\t<tr><td>Mazda RX4 21 6 160 110 3.9 2.62 16.46 0 1 4 4            </td></tr>\n",
       "\t<tr><td>Mazda RX4 Wag 21 6 160 110 3.9 2.875 17.02 0 1 4 4       </td></tr>\n",
       "\t<tr><td>Datsun 710 22.8 4 108 93 3.85 2.32 18.61 1 1 4 1         </td></tr>\n",
       "\t<tr><td>Hornet 4 Drive 21.4 6 258 110 3.08 3.215 19.44 1 0 3 1   </td></tr>\n",
       "\t<tr><td>Hornet Sportabout 18.7 8 360 175 3.15 3.44 17.02 0 0 3 2 </td></tr>\n",
       "\t<tr><td>Valiant 18.1 6 225 105 2.76 3.46 20.22 1 0 3 1           </td></tr>\n",
       "\t<tr><td>Duster 360 14.3 8 360 245 3.21 3.57 15.84 0 0 3 4        </td></tr>\n",
       "\t<tr><td>Merc 240D 24.4 4 146.7 62 3.69 3.19 20 1 0 4 2           </td></tr>\n",
       "\t<tr><td>Merc 230 22.8 4 140.8 95 3.92 3.15 22.9 1 0 4 2          </td></tr>\n",
       "\t<tr><td>Merc 280 19.2 6 167.6 123 3.92 3.44 18.3 1 0 4 4         </td></tr>\n",
       "\t<tr><td>Merc 280C 17.8 6 167.6 123 3.92 3.44 18.9 1 0 4 4        </td></tr>\n",
       "\t<tr><td>Merc 450SE 16.4 8 275.8 180 3.07 4.07 17.4 0 0 3 3       </td></tr>\n",
       "\t<tr><td>Merc 450SL 17.3 8 275.8 180 3.07 3.73 17.6 0 0 3 3       </td></tr>\n",
       "\t<tr><td>Merc 450SLC 15.2 8 275.8 180 3.07 3.78 18 0 0 3 3        </td></tr>\n",
       "\t<tr><td>Cadillac Fleetwood 10.4 8 472 205 2.93 5.25 17.98 0 0 3 4</td></tr>\n",
       "\t<tr><td>Lincoln Continental 10.4 8 460 215 3 5.424 17.82 0 0 3 4 </td></tr>\n",
       "\t<tr><td>Chrysler Imperial 14.7 8 440 230 3.23 5.345 17.42 0 0 3 4</td></tr>\n",
       "\t<tr><td>Fiat 128 32.4 4 78.7 66 4.08 2.2 19.47 1 1 4 1           </td></tr>\n",
       "\t<tr><td>Honda Civic 30.4 4 75.7 52 4.93 1.615 18.52 1 1 4 2      </td></tr>\n",
       "\t<tr><td>Toyota Corolla 33.9 4 71.1 65 4.22 1.835 19.9 1 1 4 1    </td></tr>\n",
       "\t<tr><td>Toyota Corona 21.5 4 120.1 97 3.7 2.465 20.01 1 0 3 1    </td></tr>\n",
       "\t<tr><td>Dodge Challenger 15.5 8 318 150 2.76 3.52 16.87 0 0 3 2  </td></tr>\n",
       "\t<tr><td>AMC Javelin 15.2 8 304 150 3.15 3.435 17.3 0 0 3 2       </td></tr>\n",
       "\t<tr><td>Camaro Z28 13.3 8 350 245 3.73 3.84 15.41 0 0 3 4        </td></tr>\n",
       "\t<tr><td>Pontiac Firebird 19.2 8 400 175 3.08 3.845 17.05 0 0 3 2 </td></tr>\n",
       "\t<tr><td>Fiat X1-9 27.3 4 79 66 4.08 1.935 18.9 1 1 4 1           </td></tr>\n",
       "\t<tr><td>Porsche 914-2 26 4 120.3 91 4.43 2.14 16.7 0 1 5 2       </td></tr>\n",
       "\t<tr><td>Lotus Europa 30.4 4 95.1 113 3.77 1.513 16.9 1 1 5 2     </td></tr>\n",
       "\t<tr><td>Ford Pantera L 15.8 8 351 264 4.22 3.17 14.5 0 1 5 4     </td></tr>\n",
       "\t<tr><td>Ferrari Dino 19.7 6 145 175 3.62 2.77 15.5 0 1 5 6       </td></tr>\n",
       "\t<tr><td>Maserati Bora 15 8 301 335 3.54 3.57 14.6 0 1 5 8        </td></tr>\n",
       "\t<tr><td>Volvo 142E 21.4 4 121 109 4.11 2.78 18.6 1 1 4 2         </td></tr>\n",
       "</tbody>\n",
       "</table>\n"
      ],
      "text/latex": [
       "A data.frame: 32 × 1\n",
       "\\begin{tabular}{l}\n",
       " mpg.cyl.disp.hp.drat.wt.qsec.vs.am.gear.carb\\\\\n",
       " <fct>\\\\\n",
       "\\hline\n",
       "\t Mazda RX4 21 6 160 110 3.9 2.62 16.46 0 1 4 4            \\\\\n",
       "\t Mazda RX4 Wag 21 6 160 110 3.9 2.875 17.02 0 1 4 4       \\\\\n",
       "\t Datsun 710 22.8 4 108 93 3.85 2.32 18.61 1 1 4 1         \\\\\n",
       "\t Hornet 4 Drive 21.4 6 258 110 3.08 3.215 19.44 1 0 3 1   \\\\\n",
       "\t Hornet Sportabout 18.7 8 360 175 3.15 3.44 17.02 0 0 3 2 \\\\\n",
       "\t Valiant 18.1 6 225 105 2.76 3.46 20.22 1 0 3 1           \\\\\n",
       "\t Duster 360 14.3 8 360 245 3.21 3.57 15.84 0 0 3 4        \\\\\n",
       "\t Merc 240D 24.4 4 146.7 62 3.69 3.19 20 1 0 4 2           \\\\\n",
       "\t Merc 230 22.8 4 140.8 95 3.92 3.15 22.9 1 0 4 2          \\\\\n",
       "\t Merc 280 19.2 6 167.6 123 3.92 3.44 18.3 1 0 4 4         \\\\\n",
       "\t Merc 280C 17.8 6 167.6 123 3.92 3.44 18.9 1 0 4 4        \\\\\n",
       "\t Merc 450SE 16.4 8 275.8 180 3.07 4.07 17.4 0 0 3 3       \\\\\n",
       "\t Merc 450SL 17.3 8 275.8 180 3.07 3.73 17.6 0 0 3 3       \\\\\n",
       "\t Merc 450SLC 15.2 8 275.8 180 3.07 3.78 18 0 0 3 3        \\\\\n",
       "\t Cadillac Fleetwood 10.4 8 472 205 2.93 5.25 17.98 0 0 3 4\\\\\n",
       "\t Lincoln Continental 10.4 8 460 215 3 5.424 17.82 0 0 3 4 \\\\\n",
       "\t Chrysler Imperial 14.7 8 440 230 3.23 5.345 17.42 0 0 3 4\\\\\n",
       "\t Fiat 128 32.4 4 78.7 66 4.08 2.2 19.47 1 1 4 1           \\\\\n",
       "\t Honda Civic 30.4 4 75.7 52 4.93 1.615 18.52 1 1 4 2      \\\\\n",
       "\t Toyota Corolla 33.9 4 71.1 65 4.22 1.835 19.9 1 1 4 1    \\\\\n",
       "\t Toyota Corona 21.5 4 120.1 97 3.7 2.465 20.01 1 0 3 1    \\\\\n",
       "\t Dodge Challenger 15.5 8 318 150 2.76 3.52 16.87 0 0 3 2  \\\\\n",
       "\t AMC Javelin 15.2 8 304 150 3.15 3.435 17.3 0 0 3 2       \\\\\n",
       "\t Camaro Z28 13.3 8 350 245 3.73 3.84 15.41 0 0 3 4        \\\\\n",
       "\t Pontiac Firebird 19.2 8 400 175 3.08 3.845 17.05 0 0 3 2 \\\\\n",
       "\t Fiat X1-9 27.3 4 79 66 4.08 1.935 18.9 1 1 4 1           \\\\\n",
       "\t Porsche 914-2 26 4 120.3 91 4.43 2.14 16.7 0 1 5 2       \\\\\n",
       "\t Lotus Europa 30.4 4 95.1 113 3.77 1.513 16.9 1 1 5 2     \\\\\n",
       "\t Ford Pantera L 15.8 8 351 264 4.22 3.17 14.5 0 1 5 4     \\\\\n",
       "\t Ferrari Dino 19.7 6 145 175 3.62 2.77 15.5 0 1 5 6       \\\\\n",
       "\t Maserati Bora 15 8 301 335 3.54 3.57 14.6 0 1 5 8        \\\\\n",
       "\t Volvo 142E 21.4 4 121 109 4.11 2.78 18.6 1 1 4 2         \\\\\n",
       "\\end{tabular}\n"
      ],
      "text/markdown": [
       "\n",
       "A data.frame: 32 × 1\n",
       "\n",
       "| mpg.cyl.disp.hp.drat.wt.qsec.vs.am.gear.carb &lt;fct&gt; |\n",
       "|---|\n",
       "| Mazda RX4 21 6 160 110 3.9 2.62 16.46 0 1 4 4             |\n",
       "| Mazda RX4 Wag 21 6 160 110 3.9 2.875 17.02 0 1 4 4        |\n",
       "| Datsun 710 22.8 4 108 93 3.85 2.32 18.61 1 1 4 1          |\n",
       "| Hornet 4 Drive 21.4 6 258 110 3.08 3.215 19.44 1 0 3 1    |\n",
       "| Hornet Sportabout 18.7 8 360 175 3.15 3.44 17.02 0 0 3 2  |\n",
       "| Valiant 18.1 6 225 105 2.76 3.46 20.22 1 0 3 1            |\n",
       "| Duster 360 14.3 8 360 245 3.21 3.57 15.84 0 0 3 4         |\n",
       "| Merc 240D 24.4 4 146.7 62 3.69 3.19 20 1 0 4 2            |\n",
       "| Merc 230 22.8 4 140.8 95 3.92 3.15 22.9 1 0 4 2           |\n",
       "| Merc 280 19.2 6 167.6 123 3.92 3.44 18.3 1 0 4 4          |\n",
       "| Merc 280C 17.8 6 167.6 123 3.92 3.44 18.9 1 0 4 4         |\n",
       "| Merc 450SE 16.4 8 275.8 180 3.07 4.07 17.4 0 0 3 3        |\n",
       "| Merc 450SL 17.3 8 275.8 180 3.07 3.73 17.6 0 0 3 3        |\n",
       "| Merc 450SLC 15.2 8 275.8 180 3.07 3.78 18 0 0 3 3         |\n",
       "| Cadillac Fleetwood 10.4 8 472 205 2.93 5.25 17.98 0 0 3 4 |\n",
       "| Lincoln Continental 10.4 8 460 215 3 5.424 17.82 0 0 3 4  |\n",
       "| Chrysler Imperial 14.7 8 440 230 3.23 5.345 17.42 0 0 3 4 |\n",
       "| Fiat 128 32.4 4 78.7 66 4.08 2.2 19.47 1 1 4 1            |\n",
       "| Honda Civic 30.4 4 75.7 52 4.93 1.615 18.52 1 1 4 2       |\n",
       "| Toyota Corolla 33.9 4 71.1 65 4.22 1.835 19.9 1 1 4 1     |\n",
       "| Toyota Corona 21.5 4 120.1 97 3.7 2.465 20.01 1 0 3 1     |\n",
       "| Dodge Challenger 15.5 8 318 150 2.76 3.52 16.87 0 0 3 2   |\n",
       "| AMC Javelin 15.2 8 304 150 3.15 3.435 17.3 0 0 3 2        |\n",
       "| Camaro Z28 13.3 8 350 245 3.73 3.84 15.41 0 0 3 4         |\n",
       "| Pontiac Firebird 19.2 8 400 175 3.08 3.845 17.05 0 0 3 2  |\n",
       "| Fiat X1-9 27.3 4 79 66 4.08 1.935 18.9 1 1 4 1            |\n",
       "| Porsche 914-2 26 4 120.3 91 4.43 2.14 16.7 0 1 5 2        |\n",
       "| Lotus Europa 30.4 4 95.1 113 3.77 1.513 16.9 1 1 5 2      |\n",
       "| Ford Pantera L 15.8 8 351 264 4.22 3.17 14.5 0 1 5 4      |\n",
       "| Ferrari Dino 19.7 6 145 175 3.62 2.77 15.5 0 1 5 6        |\n",
       "| Maserati Bora 15 8 301 335 3.54 3.57 14.6 0 1 5 8         |\n",
       "| Volvo 142E 21.4 4 121 109 4.11 2.78 18.6 1 1 4 2          |\n",
       "\n"
      ],
      "text/plain": [
       "   mpg.cyl.disp.hp.drat.wt.qsec.vs.am.gear.carb             \n",
       "1  Mazda RX4 21 6 160 110 3.9 2.62 16.46 0 1 4 4            \n",
       "2  Mazda RX4 Wag 21 6 160 110 3.9 2.875 17.02 0 1 4 4       \n",
       "3  Datsun 710 22.8 4 108 93 3.85 2.32 18.61 1 1 4 1         \n",
       "4  Hornet 4 Drive 21.4 6 258 110 3.08 3.215 19.44 1 0 3 1   \n",
       "5  Hornet Sportabout 18.7 8 360 175 3.15 3.44 17.02 0 0 3 2 \n",
       "6  Valiant 18.1 6 225 105 2.76 3.46 20.22 1 0 3 1           \n",
       "7  Duster 360 14.3 8 360 245 3.21 3.57 15.84 0 0 3 4        \n",
       "8  Merc 240D 24.4 4 146.7 62 3.69 3.19 20 1 0 4 2           \n",
       "9  Merc 230 22.8 4 140.8 95 3.92 3.15 22.9 1 0 4 2          \n",
       "10 Merc 280 19.2 6 167.6 123 3.92 3.44 18.3 1 0 4 4         \n",
       "11 Merc 280C 17.8 6 167.6 123 3.92 3.44 18.9 1 0 4 4        \n",
       "12 Merc 450SE 16.4 8 275.8 180 3.07 4.07 17.4 0 0 3 3       \n",
       "13 Merc 450SL 17.3 8 275.8 180 3.07 3.73 17.6 0 0 3 3       \n",
       "14 Merc 450SLC 15.2 8 275.8 180 3.07 3.78 18 0 0 3 3        \n",
       "15 Cadillac Fleetwood 10.4 8 472 205 2.93 5.25 17.98 0 0 3 4\n",
       "16 Lincoln Continental 10.4 8 460 215 3 5.424 17.82 0 0 3 4 \n",
       "17 Chrysler Imperial 14.7 8 440 230 3.23 5.345 17.42 0 0 3 4\n",
       "18 Fiat 128 32.4 4 78.7 66 4.08 2.2 19.47 1 1 4 1           \n",
       "19 Honda Civic 30.4 4 75.7 52 4.93 1.615 18.52 1 1 4 2      \n",
       "20 Toyota Corolla 33.9 4 71.1 65 4.22 1.835 19.9 1 1 4 1    \n",
       "21 Toyota Corona 21.5 4 120.1 97 3.7 2.465 20.01 1 0 3 1    \n",
       "22 Dodge Challenger 15.5 8 318 150 2.76 3.52 16.87 0 0 3 2  \n",
       "23 AMC Javelin 15.2 8 304 150 3.15 3.435 17.3 0 0 3 2       \n",
       "24 Camaro Z28 13.3 8 350 245 3.73 3.84 15.41 0 0 3 4        \n",
       "25 Pontiac Firebird 19.2 8 400 175 3.08 3.845 17.05 0 0 3 2 \n",
       "26 Fiat X1-9 27.3 4 79 66 4.08 1.935 18.9 1 1 4 1           \n",
       "27 Porsche 914-2 26 4 120.3 91 4.43 2.14 16.7 0 1 5 2       \n",
       "28 Lotus Europa 30.4 4 95.1 113 3.77 1.513 16.9 1 1 5 2     \n",
       "29 Ford Pantera L 15.8 8 351 264 4.22 3.17 14.5 0 1 5 4     \n",
       "30 Ferrari Dino 19.7 6 145 175 3.62 2.77 15.5 0 1 5 6       \n",
       "31 Maserati Bora 15 8 301 335 3.54 3.57 14.6 0 1 5 8        \n",
       "32 Volvo 142E 21.4 4 121 109 4.11 2.78 18.6 1 1 4 2         "
      ]
     },
     "metadata": {},
     "output_type": "display_data"
    },
    {
     "name": "stderr",
     "output_type": "stream",
     "text": [
      "Warning message in gzfile(file, \"wb\"):\n",
      "\"cannot open compressed file '5/15/2020.RdataTmp', probable reason 'No such file or directory'\"\n"
     ]
    },
    {
     "ename": "ERROR",
     "evalue": "Error in gzfile(file, \"wb\"): cannot open the connection\n",
     "output_type": "error",
     "traceback": [
      "Error in gzfile(file, \"wb\"): cannot open the connection\nTraceback:\n",
      "1. save.image(\"5/15/2020.Rdata\")",
      "2. save(list = names(.GlobalEnv), file = outfile, version = version, \n .     ascii = ascii, compress = compress, envir = .GlobalEnv, precheck = FALSE)",
      "3. gzfile(file, \"wb\")"
     ]
    },
    {
     "name": "stderr",
     "output_type": "stream",
     "text": [
      "Warning message in file.remove(outfile):\n",
      "\"cannot remove file '5/15/2020.RdataTmp', reason 'No such file or directory'\"\n"
     ]
    }
   ],
   "source": [
    "print(\"Lab exercise: input and output\")\n",
    "#test data\n",
    "#library(\"package\")\n",
    "getwd()\n",
    "wd <- getwd()\n",
    "setwd(wd)\n",
    "data(mtcars)\n",
    "ls()\n",
    "head(mtcars)\n",
    "dim(mtcars)\n",
    "write.table(mtcars,file=\"mtcar.txt\",row.names=TRUE,col.names=TRUE,sep=\" \")\n",
    "read.delim(\"mtcar.txt\",header=TRUE)\n",
    "save.image(\"5/15/2020.Rdata\")\n",
    "load(\"5/15/2020.Rdata\")"
   ]
  },
  {
   "cell_type": "markdown",
   "metadata": {},
   "source": [
    "![](R_5352_2020/Picture2.png)"
   ]
  },
  {
   "cell_type": "markdown",
   "metadata": {},
   "source": [
    "![](R_5352_2020/Picture2.png)"
   ]
  },
  {
   "cell_type": "markdown",
   "metadata": {},
   "source": [
    "![](R_5352_2020/Picture2.png)"
   ]
  },
  {
   "cell_type": "markdown",
   "metadata": {},
   "source": [
    "![Picture3.png](attachment:R_5352_2020/Picture3.png)"
   ]
  },
  {
   "cell_type": "code",
   "execution_count": null,
   "metadata": {
    "collapsed": true
   },
   "outputs": [],
   "source": []
  }
 ],
 "metadata": {
  "kernelspec": {
   "display_name": "R",
   "language": "R",
   "name": "ir"
  },
  "language_info": {
   "codemirror_mode": "r",
   "file_extension": ".r",
   "mimetype": "text/x-r-source",
   "name": "R",
   "pygments_lexer": "r",
   "version": "3.5.2"
  }
 },
 "nbformat": 4,
 "nbformat_minor": 2
}
